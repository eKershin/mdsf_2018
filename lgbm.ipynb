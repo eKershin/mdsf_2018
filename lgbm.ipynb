{
 "cells": [
  {
   "cell_type": "markdown",
   "metadata": {},
   "source": [
    "# Le Meilleur Data Scientist de France 2018\n",
    "\n",
    "Created on 31-05-2018\n",
    "\n",
    "@author: Hakim Idjis\n",
    "\n",
    "Top 10 solution."
   ]
  },
  {
   "cell_type": "markdown",
   "metadata": {},
   "source": [
    "# Context\n",
    "\n",
    "[Label Emmaüs](https://www.label-emmaus.co/fr/) offers for sale objects renovated or created by the movement\n",
    "Emmaüs. The purpose of this challenge is to estimate the time to sale of each object.\n",
    "\n",
    "The task is a **Multiclass classification**, with 3 classes:\n",
    "\n",
    "* 0 : between 0 et 10 days\n",
    "* 1 : between 10 et 60 days\n",
    "* 2 : more than 60 days\n",
    "\n",
    "The evaluation metric is **multilogloss** \n"
   ]
  },
  {
   "cell_type": "markdown",
   "metadata": {},
   "source": [
    "# Loading libraries"
   ]
  },
  {
   "cell_type": "code",
   "execution_count": 1,
   "metadata": {},
   "outputs": [
    {
     "name": "stdout",
     "output_type": "stream",
     "text": [
      "python : 3.6.4 |Anaconda custom (64-bit)| (default, Jan 16 2018, 18:10:19) \n",
      "[GCC 7.2.0]\n",
      "pandas : 0.20.3\n",
      "numpy : 1.13.3\n",
      "sklearn : 0.19.1\n",
      "lightgbm : 2.1.0\n"
     ]
    },
    {
     "name": "stderr",
     "output_type": "stream",
     "text": [
      "/opt/conda/lib/python3.6/site-packages/sklearn/cross_validation.py:41: DeprecationWarning: This module was deprecated in version 0.18 in favor of the model_selection module into which all the refactored classes and functions are moved. Also note that the interface of the new CV iterators are different from that of this module. This module will be removed in 0.20.\n",
      "  \"This module will be removed in 0.20.\", DeprecationWarning)\n"
     ]
    }
   ],
   "source": [
    "import sys\n",
    "print ('python :', sys.version)\n",
    "import pandas as pd\n",
    "print('pandas :', pd.__version__)\n",
    "import numpy as np\n",
    "print('numpy :', np.__version__)\n",
    "import sklearn\n",
    "print('sklearn :', sklearn.__version__)\n",
    "import lightgbm as lgb\n",
    "print('lightgbm :', lgb.__version__)\n",
    "##############################################\n",
    "import os, gc\n",
    "import matplotlib.pyplot as plt\n",
    "%matplotlib inline\n",
    "from sklearn.metrics import log_loss \n",
    "from sklearn.cross_validation import StratifiedKFold\n",
    "from sklearn.preprocessing import LabelEncoder\n",
    "from scipy.sparse import hstack\n",
    "from sklearn.feature_extraction.text import CountVectorizer\n",
    "from nltk.corpus import stopwords \n",
    "from contextlib import contextmanager\n",
    "from time import time\n",
    "t0 = time()"
   ]
  },
  {
   "cell_type": "markdown",
   "metadata": {},
   "source": [
    "# Loading data"
   ]
  },
  {
   "cell_type": "code",
   "execution_count": 2,
   "metadata": {},
   "outputs": [
    {
     "name": "stdout",
     "output_type": "stream",
     "text": [
      "train shape = (8880, 30), test shape = (2960, 30)\n"
     ]
    },
    {
     "name": "stderr",
     "output_type": "stream",
     "text": [
      "b'Skipping line 2168: expected 31 fields, saw 33\\nSkipping line 4822: expected 31 fields, saw 37\\nSkipping line 4859: expected 31 fields, saw 37\\nSkipping line 7342: expected 31 fields, saw 37\\n'\n"
     ]
    }
   ],
   "source": [
    "train = pd.read_csv('input/X_train.csv', index_col=0, error_bad_lines=False)\n",
    "test = pd.read_csv('input/X_test.csv', index_col=0, error_bad_lines=False)\n",
    "y = pd.read_csv(\"input/y_train.csv\", index_col=0)\n",
    "y = np.ravel(y)\n",
    "test_ind = test.index\n",
    "print('train shape = {}, test shape = {}'.format(train.shape, test.shape))"
   ]
  },
  {
   "cell_type": "code",
   "execution_count": 3,
   "metadata": {},
   "outputs": [
    {
     "name": "stdout",
     "output_type": "stream",
     "text": [
      "train_test shape = (11840, 30)\n"
     ]
    }
   ],
   "source": [
    "ntrain = train.shape[0]\n",
    "train_test = pd.concat([train, test], axis = 0).reset_index(drop=True)\n",
    "print('train_test shape = {}'.format(train_test.shape))\n",
    "del(train, test); gc.collect()\n",
    "\n",
    "tdp = ['url_image', 'sous_categorie_4']\n",
    "train_test.drop(tdp, axis = 1, inplace = True)\n"
   ]
  },
  {
   "cell_type": "markdown",
   "metadata": {},
   "source": [
    "# Feature Engineering"
   ]
  },
  {
   "cell_type": "code",
   "execution_count": 4,
   "metadata": {
    "collapsed": true
   },
   "outputs": [],
   "source": [
    "@contextmanager\n",
    "def timer(name):\n",
    "    t0 = time()\n",
    "    print('\\nstarting :', name)\n",
    "    yield\n",
    "    if time() - t0 < 120:\n",
    "      print('done in', round(time() - t0, 1),  's')\n",
    "    else:\n",
    "      print('done in ', round((time() - t0)/60, 1), 'm')"
   ]
  },
  {
   "cell_type": "code",
   "execution_count": 5,
   "metadata": {},
   "outputs": [
    {
     "name": "stdout",
     "output_type": "stream",
     "text": [
      "\n",
      "starting : Label Encoding\n",
      "done in 0.1 s\n"
     ]
    }
   ],
   "source": [
    "# label encode categorical features\n",
    "def lebel_encode(df, cat_cols):\n",
    "  with timer('Label Encoding'):\n",
    "    for c in cat_cols:\n",
    "      df[c] = LabelEncoder().fit_transform(df[c].values.astype('str'))\n",
    "  return(df)\n",
    "  \n",
    "lim_cat_nunic = 200\n",
    "cat_cols = [f for f in train_test.columns if train_test[f].dtype == 'O' and train_test[f].nunique() < lim_cat_nunic]\n",
    "train_test = lebel_encode(train_test.copy(), cat_cols)"
   ]
  },
  {
   "cell_type": "code",
   "execution_count": 6,
   "metadata": {},
   "outputs": [
    {
     "name": "stdout",
     "output_type": "stream",
     "text": [
      "\n",
      "starting : Text Features\n",
      "done in 0.3 s\n"
     ]
    }
   ],
   "source": [
    "## Add count of words and characters for text columns\n",
    "def char_word_counts(df, text_cols, remove_origin = False):\n",
    "  with timer('Text Features'):\n",
    "    for col in text_cols:\n",
    "      df[col] = df[col].astype(str).fillna('').str.lower()\n",
    "      df[col + '_num_chars'] = df[col].apply(len) \n",
    "      df[col + '_num_words'] = df[col].apply(lambda comment: len(comment.split())) \n",
    "    if remove_origin:\n",
    "      df = df.drop(text_cols, axis=1)\n",
    "  return(df)\n",
    "  \n",
    "text_cols = [f for f in train_test.columns if train_test[f].dtype == 'O' and train_test[f].nunique() >= lim_cat_nunic]\n",
    "train_test = char_word_counts(train_test.copy(), text_cols, remove_origin = False)"
   ]
  },
  {
   "cell_type": "code",
   "execution_count": 7,
   "metadata": {},
   "outputs": [
    {
     "name": "stdout",
     "output_type": "stream",
     "text": [
      "\n",
      "starting : bag of words\n",
      "done in 4.4 s\n"
     ]
    }
   ],
   "source": [
    "## Bag of words for text columns\n",
    "with timer('bag of words'):\n",
    "    vec_txt_feats = []\n",
    "    vec_txt_feats_names = []\n",
    "    for f in text_cols:\n",
    "      train_test[f].fillna('missing', inplace = True)\n",
    "      vec_txt_feat = CountVectorizer(stop_words= set(stopwords.words('french')),\n",
    "                                     token_pattern= r'\\w{1,}', \n",
    "                                     max_features= 500, ngram_range=(1, 2))\n",
    "      vec_txt_feat.fit(train_test[f])\n",
    "      vec_txt_feats.append(vec_txt_feat.transform(train_test[f]))\n",
    "      vec_txt_feats_names.extend(vec_txt_feat.get_feature_names())  "
   ]
  },
  {
   "cell_type": "code",
   "execution_count": 8,
   "metadata": {},
   "outputs": [
    {
     "name": "stdout",
     "output_type": "stream",
     "text": [
      "\n",
      "starting : concatenating\n",
      "done in 0.2 s\n"
     ]
    },
    {
     "data": {
      "text/plain": [
       "0"
      ]
     },
     "execution_count": 8,
     "metadata": {},
     "output_type": "execute_result"
    }
   ],
   "source": [
    "## concatenate train_test features with sparse text ones\n",
    "with timer('concatenating'):\n",
    "    train_test.drop(text_cols, axis=1,inplace=True)\n",
    "    features = list(train_test.columns) + vec_txt_feats_names\n",
    "    for i in range(len(vec_txt_feats)):\n",
    "      train_test = hstack((train_test, vec_txt_feats[i])).tocsr()\n",
    "    del(vec_txt_feats); gc.collect()\n",
    "\n",
    "train, test = train_test[:ntrain, :], train_test[ntrain:, :]\n",
    "del(train_test); gc.collect()"
   ]
  },
  {
   "cell_type": "markdown",
   "metadata": {},
   "source": [
    "# Training"
   ]
  },
  {
   "cell_type": "code",
   "execution_count": 9,
   "metadata": {
    "collapsed": true
   },
   "outputs": [],
   "source": [
    "def run_lgb(xtr, ytr, xte, yte, test, params, f_names, cat_cols, num_rounds=100000, e_s_r = 50):  \n",
    "    model = lgb.train(params, \n",
    "                      lgb.Dataset(xtr, label=ytr, feature_name=f_names,categorical_feature=cat_cols), \n",
    "                      num_rounds,\n",
    "                      lgb.Dataset(xte, label=yte, feature_name=f_names,categorical_feature=cat_cols), \n",
    "                      verbose_eval=50, early_stopping_rounds=e_s_r)\n",
    "                  \n",
    "    pred_yte = model.predict(xte, num_iteration=model.best_iteration)\n",
    "    pred_test = model.predict(test, num_iteration=model.best_iteration) \n",
    "    return pred_yte, pred_test, model\n",
    "\n",
    "lgb_params = {\"objective\" : \"multiclass\", \n",
    "              \"num_class\":3,\n",
    "              \"metric\" : \"multi_logloss\", \n",
    "              \"num_leaves\" : 30, \n",
    "              \"learning_rate\" : 0.1, \n",
    "              \"bagging_fraction\" : 0.7, \n",
    "              \"feature_fraction\" : 0.5,\n",
    "              \"bagging_frequency\" : 5, \n",
    "              \"bagging_seed\" : 2018}"
   ]
  },
  {
   "cell_type": "code",
   "execution_count": 10,
   "metadata": {
    "scrolled": true
   },
   "outputs": [
    {
     "name": "stdout",
     "output_type": "stream",
     "text": [
      "**********  starting fold 1 *********\n"
     ]
    },
    {
     "name": "stderr",
     "output_type": "stream",
     "text": [
      "/opt/conda/lib/python3.6/site-packages/lightgbm/basic.py:1036: UserWarning: Using categorical_feature in Dataset.\n",
      "  warnings.warn('Using categorical_feature in Dataset.')\n",
      "/opt/conda/lib/python3.6/site-packages/lightgbm/basic.py:681: UserWarning: categorical_feature in param dict is overrided.\n",
      "  warnings.warn('categorical_feature in param dict is overrided.')\n"
     ]
    },
    {
     "name": "stdout",
     "output_type": "stream",
     "text": [
      "Training until validation scores don't improve for 50 rounds.\n",
      "[50]\tvalid_0's multi_logloss: 0.938242\n",
      "[100]\tvalid_0's multi_logloss: 0.929814\n",
      "[150]\tvalid_0's multi_logloss: 0.934462\n",
      "Early stopping, best iteration is:\n",
      "[109]\tvalid_0's multi_logloss: 0.928803\n",
      "Fold  1 log_loss =  : 0.928803422425 6.0 s\n",
      "**********  starting fold 2 *********\n",
      "Training until validation scores don't improve for 50 rounds.\n",
      "[50]\tvalid_0's multi_logloss: 0.943509\n",
      "[100]\tvalid_0's multi_logloss: 0.936561\n",
      "Early stopping, best iteration is:\n",
      "[91]\tvalid_0's multi_logloss: 0.936286\n",
      "Fold  2 log_loss =  : 0.936272461097 6.0 s\n",
      "**********  starting fold 3 *********\n",
      "Training until validation scores don't improve for 50 rounds.\n",
      "[50]\tvalid_0's multi_logloss: 0.95316\n",
      "[100]\tvalid_0's multi_logloss: 0.94995\n",
      "Early stopping, best iteration is:\n",
      "[97]\tvalid_0's multi_logloss: 0.949329\n",
      "Fold  3 log_loss =  : 0.949329140188 6.0 s\n",
      "**********  starting fold 4 *********\n",
      "Training until validation scores don't improve for 50 rounds.\n",
      "[50]\tvalid_0's multi_logloss: 0.935405\n",
      "[100]\tvalid_0's multi_logloss: 0.929508\n",
      "Early stopping, best iteration is:\n",
      "[92]\tvalid_0's multi_logloss: 0.928009\n",
      "Fold  4 log_loss =  : 0.928008608557 6.0 s\n",
      "**********  starting fold 5 *********\n",
      "Training until validation scores don't improve for 50 rounds.\n",
      "[50]\tvalid_0's multi_logloss: 0.940011\n",
      "[100]\tvalid_0's multi_logloss: 0.933409\n",
      "[150]\tvalid_0's multi_logloss: 0.933063\n",
      "Early stopping, best iteration is:\n",
      "[124]\tvalid_0's multi_logloss: 0.931769\n",
      "Fold  5 log_loss =  : 0.931769254802 7.0 s\n",
      "Total score: 0.9348 mean score: 0.9348 std : 0.0078\n"
     ]
    }
   ],
   "source": [
    "nfolds = 5\n",
    "test_pred = np.zeros((test.shape[0], 3))\n",
    "pred_oof = np.zeros((train.shape[0], 3))\n",
    "scores, times = np.zeros(nfolds), np.zeros(nfolds)\n",
    "i=0\n",
    "kf= StratifiedKFold(y, nfolds, shuffle=True, random_state=111)\n",
    "for (dev_index, val_index) in kf:\n",
    "    print ('**********  starting fold {} *********'.format(i+1))\n",
    "    t1 = time()       \n",
    "    xtr, xte = train[dev_index,:], train[val_index,:]\n",
    "    ytr, yte = y[dev_index], y[val_index] \n",
    "    \n",
    "    pred, test_pred_cv, model = run_lgb(xtr, ytr, xte, yte, test, lgb_params, features, cat_cols)\n",
    "\n",
    "    test_pred += test_pred_cv / nfolds\n",
    "    pred_oof[val_index] = pred\n",
    "    scores[i], times[i] = log_loss(yte, pred), round((time()-t1), 0)\n",
    "    print('Fold ', i+1, 'log_loss =  :', scores[i], times[i], \"s\")\n",
    "    i+=1\n",
    "\n",
    "total_score = round(log_loss(y, pred_oof), 4)\n",
    "print('Total score:', total_score,'mean score:', round(np.mean(scores), 4), 'std :', round(np.std(scores), 4))"
   ]
  },
  {
   "cell_type": "code",
   "execution_count": 11,
   "metadata": {},
   "outputs": [
    {
     "data": {
      "text/plain": [
       "<matplotlib.axes._subplots.AxesSubplot at 0x7f885498d2e8>"
      ]
     },
     "execution_count": 11,
     "metadata": {},
     "output_type": "execute_result"
    },
    {
     "data": {
      "image/png": "[encoded data removed]",
      "text/plain": [
       "<matplotlib.figure.Figure at 0x7f8854eed7f0>"
      ]
     },
     "metadata": {},
     "output_type": "display_data"
    }
   ],
   "source": [
    "lgb.plot_importance(model, figsize=(5, 5), max_num_features=15, importance_type= 'gain')"
   ]
  },
  {
   "cell_type": "markdown",
   "metadata": {},
   "source": [
    "# Submission"
   ]
  },
  {
   "cell_type": "code",
   "execution_count": 12,
   "metadata": {},
   "outputs": [
    {
     "name": "stdout",
     "output_type": "stream",
     "text": [
      "Total time = 37 s\n"
     ]
    }
   ],
   "source": [
    "sub = pd.DataFrame(test_pred, index=test_ind)\n",
    "sub.to_csv(\"lgb_\"+str(total_score)+\".csv\", index_label=\"id\", header=['0', '1', '2'])\n",
    "\n",
    "print(\"Total time = %.f s\"% (time()-t0))"
   ]
  },
  {
   "cell_type": "code",
   "execution_count": null,
   "metadata": {
    "collapsed": true
   },
   "outputs": [],
   "source": []
  }
 ],
 "metadata": {
  "anaconda-cloud": {},
  "kernelspec": {
   "display_name": "Python 3",
   "language": "python",
   "name": "python3"
  },
  "language_info": {
   "codemirror_mode": {
    "name": "ipython",
    "version": 3
   },
   "file_extension": ".py",
   "mimetype": "text/x-python",
   "name": "python",
   "nbconvert_exporter": "python",
   "pygments_lexer": "ipython3",
   "version": "3.6.4"
  }
 },
 "nbformat": 4,
 "nbformat_minor": 1
}
